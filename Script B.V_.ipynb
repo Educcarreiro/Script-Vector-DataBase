{
 "cells": [
  {
   "cell_type": "code",
   "execution_count": 1,
   "id": "62b1e7c8-d1d5-4ee4-a971-4e629d190aca",
   "metadata": {},
   "outputs": [],
   "source": [
    "import numpy as np"
   ]
  },
  {
   "cell_type": "code",
   "execution_count": 2,
   "id": "4f8ede43-eaeb-46df-bcd8-cb287333cdee",
   "metadata": {},
   "outputs": [],
   "source": [
    "import pandas as pd"
   ]
  },
  {
   "cell_type": "code",
   "execution_count": 3,
   "id": "b1f64fc2-4cea-4b77-b703-d68cebc8e21d",
   "metadata": {},
   "outputs": [],
   "source": [
    " #Função pra calcular e similarizar os dois vetores"
   ]
  },
  {
   "cell_type": "code",
   "execution_count": 85,
   "id": "e9f8f3a5-b7ab-488c-81a4-f3a45748e986",
   "metadata": {},
   "outputs": [
    {
     "name": "stdout",
     "output_type": "stream",
     "text": [
      "A similaridade de cosseno entre os vetores é: 0.8031\n"
     ]
    }
   ],
   "source": [
    "def calcular_similaridade(vector1, vector2):\n",
    "    \"\"\"\n",
    "    Calcula a similaridade de cosseno entre dois vetores.\n",
    "\n",
    "    Args:\n",
    "        vector1 (np.array): Primeiro vetor.\n",
    "        vector2 (np.array): Segundo vetor.\n",
    "\n",
    "    Returns:\n",
    "        float: Similaridade de cosseno entre os vetores.\n",
    "    \"\"\"\n",
    "    dot_product = np.dot(vector1, vector2)\n",
    "    norm_vector1 = np.linalg.norm(vector1)\n",
    "    norm_vector2 = np.linalg.norm(vector2)\n",
    "    \n",
    "    similarity = dot_product / (norm_vector1 * norm_vector2)\n",
    "    return similarity\n",
    "\n",
    "# Exemplo de uso\n",
    "vector_a = np.array([1, 2, 3])\n",
    "vector_b = np.array([1, 2, 1000])\n",
    "\n",
    "similarity_score = calcular_similaridade(vector_a, vector_b)\n",
    "print(f\"A similaridade de cosseno entre os vetores é: {similarity_score:.4f}\")"
   ]
  },
  {
   "cell_type": "code",
   "execution_count": 72,
   "id": "5117f495-52bf-4efc-bba1-5335838ccc6c",
   "metadata": {},
   "outputs": [],
   "source": [
    "def buscar_documento_similar(vetor_consulta, banco_vetorial):\n",
    "    documento_similar = None\n",
    "    maior_similaridade = -1 \n",
    "    for idDocumento, vetor in banco_vetorial.items(): \n",
    "        similaridade = calcular_similaridade(vetor_consulta,vetor)\n",
    "        if similaridade > maior_similaridade:\n",
    "            maior_similaridade = similaridade \n",
    "            documento_similar = idDocumento\n",
    "    return documento_similar, maior_similaridade"
   ]
  },
  {
   "cell_type": "code",
   "execution_count": 73,
   "id": "857a832c-06c2-4045-9e0c-9fb4dc1d273d",
   "metadata": {},
   "outputs": [],
   "source": [
    "# Não será necessária quando já houver uma coluna com o vetor para cada texto\n",
    "def gerar_vetor_aleatorio():\n",
    "    return np.array([np.random.rand(3)])[0]"
   ]
  },
  {
   "cell_type": "code",
   "execution_count": 74,
   "id": "3984a897-9e83-4434-a506-cd20a9f8ce77",
   "metadata": {},
   "outputs": [],
   "source": [
    "def ler_dataset(caminho_arquivo, coluna_vetor='vetor'):\n",
    "    df = pd.read_csv(caminho_arquivo)\n",
    "    \n",
    "    # ----------------------------\n",
    "    # Quando houver a coluna com o texto vetorizado, remover essa linha\n",
    "    df['vetor'] = df['texto_limpo'].apply(lambda x: gerar_vetor_aleatorio())\n",
    "    # ----------------------------\n",
    "    \n",
    "    banco_vetorial={}\n",
    "    for index , row in df.iterrows():\n",
    "        idDocumento = row['idDocumentoField']\n",
    "        # Caso seja criada uma coluna com o vetor, alterar aqui \n",
    "        vetor = row[coluna_vetor]\n",
    "        banco_vetorial[idDocumento] = vetor\n",
    "        return banco_vetorial"
   ]
  },
  {
   "cell_type": "code",
   "execution_count": 75,
   "id": "313252d7-d528-4e76-9bfb-72933e65e701",
   "metadata": {},
   "outputs": [],
   "source": [
    "#Caminho arquivo CSV com o dataset "
   ]
  },
  {
   "cell_type": "code",
   "execution_count": 76,
   "id": "1fbad0be-35c5-42b1-a567-841019c3e2a8",
   "metadata": {},
   "outputs": [],
   "source": [
    "caminho_arquivo = \"./dataset que será utilizado \""
   ]
  },
  {
   "cell_type": "code",
   "execution_count": 77,
   "id": "dcec4b2f-4245-4e8b-a93a-1b30ac62d718",
   "metadata": {},
   "outputs": [],
   "source": [
    "#Construir o banco vetorial apartir do DATASET "
   ]
  },
  {
   "cell_type": "code",
   "execution_count": 78,
   "id": "417bc1c4-8b86-408a-8ed3-556dd83ff0e0",
   "metadata": {},
   "outputs": [],
   "source": [
    "banco_vetorial = ler_dataset(caminho_arquivo)"
   ]
  },
  {
   "cell_type": "code",
   "execution_count": 79,
   "id": "02476b98-7af9-433c-9f62-56633f37afae",
   "metadata": {},
   "outputs": [],
   "source": [
    "#Vetor de Consulta"
   ]
  },
  {
   "cell_type": "code",
   "execution_count": 80,
   "id": "1b70ecb3-cd16-49d8-9bee-ac99d77dc8a8",
   "metadata": {},
   "outputs": [],
   "source": [
    "vetor_consulta = np.array([4,1,225])  \n",
    "\n",
    "#Altera conforme precisar "
   ]
  },
  {
   "cell_type": "code",
   "execution_count": 81,
   "id": "390e5058-1be7-4978-bc93-2208e6dd9aab",
   "metadata": {},
   "outputs": [],
   "source": [
    "#Busca "
   ]
  },
  {
   "cell_type": "code",
   "execution_count": 102,
   "id": "bf0d20b0-210d-46d3-a3ef-e00faa120e29",
   "metadata": {},
   "outputs": [],
   "source": [
    "documento_similar, similaridade = buscar_documento_similar(vetor_consulta, banco_vetorial)"
   ]
  },
  {
   "cell_type": "code",
   "execution_count": 103,
   "id": "457ec646-3aab-4496-ab13-4454789d9c30",
   "metadata": {},
   "outputs": [],
   "source": [
    "#Resultado"
   ]
  },
  {
   "cell_type": "code",
   "execution_count": 106,
   "id": "d2022723-70ba-47a9-9d5e-2de050da3776",
   "metadata": {},
   "outputs": [
    {
     "name": "stdout",
     "output_type": "stream",
     "text": [
      "ID do documento mais similar: 85934971\n",
      "Similaridade: 0.9728559818871146\n"
     ]
    }
   ],
   "source": [
    "print(\"ID do documento mais similar:\", documento_similar)\n",
    "print(\"Similaridade:\", similaridade)"
   ]
  }
 ],
 "metadata": {
  "kernelspec": {
   "display_name": "Python 3 (ipykernel)",
   "language": "python",
   "name": "python3"
  },
  "language_info": {
   "codemirror_mode": {
    "name": "ipython",
    "version": 3
   },
   "file_extension": ".py",
   "mimetype": "text/x-python",
   "name": "python",
   "nbconvert_exporter": "python",
   "pygments_lexer": "ipython3",
   "version": "3.9.12"
  }
 },
 "nbformat": 4,
 "nbformat_minor": 5
}
